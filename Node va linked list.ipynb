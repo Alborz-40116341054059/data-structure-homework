{
  "nbformat": 4,
  "nbformat_minor": 0,
  "metadata": {
    "colab": {
      "provenance": [],
      "authorship_tag": "ABX9TyO/LljeBKWxJKPUrDHwo7HB",
      "include_colab_link": true
    },
    "kernelspec": {
      "name": "python3",
      "display_name": "Python 3"
    },
    "language_info": {
      "name": "python"
    }
  },
  "cells": [
    {
      "cell_type": "markdown",
      "metadata": {
        "id": "view-in-github",
        "colab_type": "text"
      },
      "source": [
        "<a href=\"https://colab.research.google.com/github/Alborz-40116341054059/data-structure-homework/blob/main/Node%20va%20linked%20list.ipynb\" target=\"_parent\"><img src=\"https://colab.research.google.com/assets/colab-badge.svg\" alt=\"Open In Colab\"/></a>"
      ]
    },
    {
      "cell_type": "code",
      "execution_count": null,
      "metadata": {
        "id": "fvL8kcefaw3z"
      },
      "outputs": [],
      "source": [
        "#nave baz kardan barname\n",
        "#liste peyvandi yek tarafe\n",
        "#linked list\n",
        "class node:\n",
        "\n",
        "    def __init__(self,d):\n",
        "        self.data=d\n",
        "        self.next=None\n",
        "\n",
        "class Linkedlist:\n",
        "\n",
        "    def __init__(self):\n",
        "        self.head=None\n",
        "\n",
        "    def display(self):\n",
        "        t=self.head\n",
        "        while (t!=None): #ta vaqti t.next mokhalefe none ast\n",
        "            print(t.data,end='-->')\n",
        "            t=t.next\n",
        "    print('none')\n",
        "\n",
        "    def addinstart(self,data):\n",
        "        n=node(data)\n",
        "        n.next=self.head\n",
        "        self.head = n\n",
        "\n",
        "    def addinend(self,data):\n",
        "        n=node(data)\n",
        "        t=self.head\n",
        "        if(t==None):\n",
        "            t=self.head\n",
        "        else:\n",
        "            while(t.next != None):\n",
        "                t=t.next\n",
        "            t.next-n\n",
        "    def addafter(self,m,data):#1-sakhtan node ba dade d 2- copy az head 3-harkat t ta residan be gere m  4- n.next=t.next 5-t.next=n\n",
        "        n=node(data)\n",
        "        t=self.head\n",
        "        while (t.data != m):\n",
        "            t=t.next\n",
        "        n.next=t.next\n",
        "        t.next=n\n",
        "    def delfirst(self):\n",
        "        if (self.head==None):\n",
        "            return 'empty'\n",
        "        else:\n",
        "            self.head=self.head.next\n",
        "    def dellast(self):\n",
        "        t=self.head\n",
        "        if (t == None):\n",
        "            return 'empty'\n",
        "        elif (t.next == None):\n",
        "            t = None\n",
        "        else:\n",
        "            while (t.next.next != None):\n",
        "                t=t.next\n",
        "        t.next=None\n",
        "    def dellmid(self,m):#1- copy text 2- harkat ta be node shamel t beresim 3- t.next=t.next.next\n",
        "        t=self.head\n",
        "        while(t.data != m):\n",
        "            t=t.next\n",
        "        t.next = t.next.next\n"
      ]
    }
  ]
}