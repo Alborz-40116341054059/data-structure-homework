{
  "nbformat": 4,
  "nbformat_minor": 0,
  "metadata": {
    "colab": {
      "provenance": [],
      "authorship_tag": "ABX9TyPzn9g5OUtINz3I59FdcxL9",
      "include_colab_link": true
    },
    "kernelspec": {
      "name": "python3",
      "display_name": "Python 3"
    },
    "language_info": {
      "name": "python"
    }
  },
  "cells": [
    {
      "cell_type": "markdown",
      "metadata": {
        "id": "view-in-github",
        "colab_type": "text"
      },
      "source": [
        "<a href=\"https://colab.research.google.com/github/Alborz-40116341054059/data-structure-homework/blob/main/dlinkedd2.ipynb\" target=\"_parent\"><img src=\"https://colab.research.google.com/assets/colab-badge.svg\" alt=\"Open In Colab\"/></a>"
      ]
    },
    {
      "cell_type": "code",
      "execution_count": null,
      "metadata": {
        "id": "_scO2QfscH06"
      },
      "outputs": [],
      "source": [
        "#onsor vasat ra hazf konid\n",
        "class dnode:\n",
        "    def __init__(self,data):\n",
        "        self.data=data\n",
        "        self.next=None\n",
        "        self.prev=None\n",
        "\n",
        "class dLinkedlist:\n",
        "    def __init__(self):\n",
        "        self.head=None\n",
        "    def display(self):\n",
        "        t=self.head\n",
        "        while t!=None:\n",
        "            print(t.data,end='<-->')\n",
        "            t=t.next\n",
        "    print(None)\n",
        "    def addinstart(self,data):\n",
        "        n=dnode(data)\n",
        "        if self.head != None:\n",
        "            n.next=self.head\n",
        "            self.head.prev=n\n",
        "        self.head=n\n",
        "    def addinend(self,data):\n",
        "        n=dnode(data)\n",
        "        if self.head != None:\n",
        "            t=self.head\n",
        "            while(t.next != None):\n",
        "                t=t.next\n",
        "            t.next=n\n",
        "            n.prev=t\n",
        "        else:\n",
        "            self.head=None\n",
        "    def addafter(self,data,m):\n",
        "        n=dnode(data)\n",
        "        t=self.head\n",
        "        while(t.data != m):\n",
        "            t=t.next\n",
        "            if t == None:\n",
        "                break\n",
        "        n.next=t.next\n",
        "        n.prev=t\n",
        "        n.next=n\n",
        "        n.next.prev=n\n",
        "    def delfirs(self):\n",
        "        if (self.head==None):\n",
        "            return -1\n",
        "        self.head=self.head.next\n",
        "        self.head.prev=None\n",
        "    def dellast(self):\n",
        "        if(self.head==None):\n",
        "            return -1\n",
        "        t=self.head\n",
        "        while t.next != None:\n",
        "            t=t.next\n",
        "        t.prev.next=None\n",
        "        t.prev=None\n",
        "    def delete(self,data):\n",
        "        t=self.head\n",
        "        while ( t.data != data):\n",
        "            t=t.next\n",
        "        t.next.prev=t.prev\n",
        "        t.prev.next=t.next\n",
        "        t.next=None\n",
        "        t.prev=None\n",
        "    def deletemid(self):\n",
        "        t=self.head\n",
        "        count=0\n",
        "        while (t.next != None):\n",
        "            t=t.next\n",
        "            count+=1\n",
        "        t=self.head\n",
        "        if count%2==0:\n",
        "            for i in range(count//2):\n",
        "                t=t.next\n",
        "        else:\n",
        "            for i in range(count//2 + 1):\n",
        "                t=t.next\n",
        "        t.next.prev=t.prev\n",
        "        t.prev.next=t.next\n",
        "        t.next=None\n",
        "        t.prev=None\n",
        "        #metodi benevidid ke adad fard va list ra hazf konad\n",
        "\n"
      ]
    }
  ]
}