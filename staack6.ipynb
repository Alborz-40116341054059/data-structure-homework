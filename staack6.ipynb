{
  "nbformat": 4,
  "nbformat_minor": 0,
  "metadata": {
    "colab": {
      "provenance": [],
      "authorship_tag": "ABX9TyM4G/ifEdeClf4oD961Z0Rn",
      "include_colab_link": true
    },
    "kernelspec": {
      "name": "python3",
      "display_name": "Python 3"
    },
    "language_info": {
      "name": "python"
    }
  },
  "cells": [
    {
      "cell_type": "markdown",
      "metadata": {
        "id": "view-in-github",
        "colab_type": "text"
      },
      "source": [
        "<a href=\"https://colab.research.google.com/github/Alborz-40116341054059/data-structure-homework/blob/main/staack6.ipynb\" target=\"_parent\"><img src=\"https://colab.research.google.com/assets/colab-badge.svg\" alt=\"Open In Colab\"/></a>"
      ]
    },
    {
      "cell_type": "code",
      "execution_count": null,
      "metadata": {
        "id": "QfpkaxvDag8q"
      },
      "outputs": [],
      "source": [
        "#tabei benevisisd ke  (),[],{}, ra dar yek reshte check konad agar tanzim bud True dar qeyre insurat False ra bargardanad in kar ra ba sakhteman dade poshte anjam dahid\n",
        "# [[2=5]*3]----> True\n",
        "#1-har chizi qeyr az \"({[\"\n",
        "# 2-agar \"({[\" ra didim push mikonim\n",
        "# 3-agar ')}]' 2 halat darad 1- ba top stack barbar ast pop mikonim 2- bs top stack barabar nist return False\n",
        "class stack:\n",
        "    def __init__(self,limit=10):\n",
        "        self.stack=[]\n",
        "        self.limit=limit\n",
        "    def peek(self):\n",
        "        if len(self.stack)<=0:\n",
        "            return -1\n",
        "        else:\n",
        "            return self.stack[len(self.stack)-1] #chun az sefr shuru mishe -1 mikonim\n",
        "    def pop(self):\n",
        "        if len(self.stack)<=0:\n",
        "            return -1\n",
        "        else:\n",
        "            return self.stack.pop()\n",
        "    def push(self,data): #baraye ezafe kardan yek moteqayer ast\n",
        "        if len(self.stack)>=self.limit:\n",
        "            return -1\n",
        "        else:\n",
        "            self.stack.append(data)\n",
        "    def display(self):\n",
        "        if len(self.stack<=0):\n",
        "            return -1\n",
        "        else:\n",
        "            for i in range (len(self.stack)):\n",
        "                print(self.stack[i])\n",
        "    def is_empty(self):\n",
        "        if len(self.stack)<=0:\n",
        "            return True\n",
        "        else:\n",
        "            return False\n",
        "def match_S(str):\n",
        "    s=stack()\n",
        "    for i in str:\n",
        "        if i in '([{':\n",
        "            s.push(i)\n",
        "        elif i in ')]}':\n",
        "            if s.peek(i)==i:\n",
        "                s.pop(i)\n",
        "            else:\n",
        "                return False\n",
        "    if s.is_empty():\n",
        "        return True\n",
        "    else:\n",
        "        return False\n",
        "#eror dare barname barfaraf konid\n",
        "str1='2*(5+2(2-3))'\n",
        "stack(str1)\n",
        "match_S(str1)\n",
        "\n",
        "\n",
        "\n"
      ]
    }
  ]
}