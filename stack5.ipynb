{
  "nbformat": 4,
  "nbformat_minor": 0,
  "metadata": {
    "colab": {
      "provenance": [],
      "authorship_tag": "ABX9TyMvir9fAQIzyWnVqHbn62By",
      "include_colab_link": true
    },
    "kernelspec": {
      "name": "python3",
      "display_name": "Python 3"
    },
    "language_info": {
      "name": "python"
    }
  },
  "cells": [
    {
      "cell_type": "markdown",
      "metadata": {
        "id": "view-in-github",
        "colab_type": "text"
      },
      "source": [
        "<a href=\"https://colab.research.google.com/github/Alborz-40116341054059/data-structure-homework/blob/main/stack5.ipynb\" target=\"_parent\"><img src=\"https://colab.research.google.com/assets/colab-badge.svg\" alt=\"Open In Colab\"/></a>"
      ]
    },
    {
      "cell_type": "code",
      "execution_count": null,
      "metadata": {
        "id": "M_ZfWVI4Zjhu"
      },
      "outputs": [],
      "source": [
        "#ba estefade az sakhteman dade poshte hasel yek ebarat postfix ra mohasebe konid\n",
        "# 7 4 -3 * 1 5 + / *\n",
        "#1- igad stack\n",
        "#2- vaqti amalvandi ra dididm an ra darun poshte push mikonim\n",
        "#3- vaqti amalgari ra didim dobar amal pop ra anjam dade sepas amalgar ra bar ruye anha emal mikonim va dar nahayat push anjam midahim\n",
        "#tabeii benevisisd ke ba estefade az sakhteman dade poshte hasel yek ebarate postfix ra mohasebe konad\n",
        "class stack():\n",
        "    def __init__(self,limit=10):\n",
        "        self.stack=[]\n",
        "        self.limit=limit\n",
        "    def peek(self):\n",
        "        if len(self.stack)<=0:\n",
        "            return -1\n",
        "        else:\n",
        "            return self.stack[len(self.stack)-1] #chun az sefr shuru mishe -1 mikonim\n",
        "    def pop(self):\n",
        "        if len(self.stack)<=0:\n",
        "            return -1\n",
        "        else:\n",
        "            return self.stack.pop()\n",
        "    def push(self,data): #baraye ezafe kardan yek moteqayer ast\n",
        "        if len(self.stack)>=self.limit:\n",
        "            return -1\n",
        "        else:\n",
        "            self.stack.append(data)\n",
        "    def display(self):\n",
        "        if len(self.stack<=0):\n",
        "            return -1\n",
        "        else:\n",
        "            for i in range (len(self.stack)):\n",
        "                print(self.stack[i])\n",
        "    def is_empty(self):\n",
        "        if len(self.stack)<=0:\n",
        "            return True\n",
        "        else:\n",
        "            return False\n",
        "def postfix(lst):\n",
        "    s=stack(len(lst)//2)\n",
        "    for e in lst:\n",
        "        if e == '*':\n",
        "            t2=s.pop()\n",
        "            t1=s.pop()\n",
        "            t=t1*t2\n",
        "            s.push(t)\n",
        "        elif e=='+':\n",
        "            t2=s.pop()\n",
        "            t1=s.pop()\n",
        "            t=t1+t2\n",
        "            s.push(t)\n",
        "        elif e=='-':\n",
        "            t2=s.pop()\n",
        "            t1=s.pop()\n",
        "            t=t1-t2\n",
        "            s.push(t)\n",
        "        elif e=='/':\n",
        "            t2=s.pop()\n",
        "            t1=s.pop()\n",
        "            t=t1/t2\n",
        "            s.push(t)\n",
        "        else:\n",
        "            s.push(e)\n",
        "    return s.pop()#s.stack[0] hamun javabemun hast.\n",
        "\n",
        "\n"
      ]
    }
  ]
}