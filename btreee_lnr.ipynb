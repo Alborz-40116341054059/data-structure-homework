{
  "nbformat": 4,
  "nbformat_minor": 0,
  "metadata": {
    "colab": {
      "provenance": [],
      "authorship_tag": "ABX9TyPrC4TXc8Vo9QwXKz69B+93",
      "include_colab_link": true
    },
    "kernelspec": {
      "name": "python3",
      "display_name": "Python 3"
    },
    "language_info": {
      "name": "python"
    }
  },
  "cells": [
    {
      "cell_type": "markdown",
      "metadata": {
        "id": "view-in-github",
        "colab_type": "text"
      },
      "source": [
        "<a href=\"https://colab.research.google.com/github/Alborz-40116341054059/data-structure-homework/blob/main/btreee_lnr.ipynb\" target=\"_parent\"><img src=\"https://colab.research.google.com/assets/colab-badge.svg\" alt=\"Open In Colab\"/></a>"
      ]
    },
    {
      "cell_type": "code",
      "execution_count": null,
      "metadata": {
        "id": "rkyD-YklVrX5"
      },
      "outputs": [],
      "source": [
        "class btnode():\n",
        "    def __init__(self,data,left=None,right=None):\n",
        "        self.key=data\n",
        "        self.left=left\n",
        "        self.right=right\n",
        "class btree():\n",
        "    def __init__(self,root=None):\n",
        "        self.root=root\n",
        "    def inorder(self,root):#lnr\n",
        "        if(self.root==None):\n",
        "            return\n",
        "        else:\n",
        "            self.inorder(self.root.left)\n",
        "            print(self.root.data)\n",
        "            self.inorder(self.root.right)\n",
        "    def postorder(self,root):#lrn\n",
        "        if(root==None):\n",
        "            return\n",
        "        else:\n",
        "            self.postorder(self.root.left)\n",
        "            self.postorder(self.root.right)\n",
        "            print(self.root.data)"
      ]
    }
  ]
}