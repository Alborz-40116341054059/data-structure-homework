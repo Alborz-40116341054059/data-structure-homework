{
  "nbformat": 4,
  "nbformat_minor": 0,
  "metadata": {
    "colab": {
      "provenance": [],
      "authorship_tag": "ABX9TyP9bKDAqVri0aJE+vsxCST9",
      "include_colab_link": true
    },
    "kernelspec": {
      "name": "python3",
      "display_name": "Python 3"
    },
    "language_info": {
      "name": "python"
    }
  },
  "cells": [
    {
      "cell_type": "markdown",
      "metadata": {
        "id": "view-in-github",
        "colab_type": "text"
      },
      "source": [
        "<a href=\"https://colab.research.google.com/github/Alborz-40116341054059/data-structure-homework/blob/main/stack1.ipynb\" target=\"_parent\"><img src=\"https://colab.research.google.com/assets/colab-badge.svg\" alt=\"Open In Colab\"/></a>"
      ]
    },
    {
      "cell_type": "code",
      "execution_count": null,
      "metadata": {
        "id": "uY8lGNp5Z0wK"
      },
      "outputs": [],
      "source": [
        "#پشته stack:\n",
        "#LIFO last in First out\n",
        "#p1:\n",
        "    #__________\n",
        "    #_________\n",
        "    #Call p2\n",
        "    #________\n",
        "#p2:\n",
        "    #________\n",
        "    #_______\n",
        "    #______\n",
        "    #p3\n",
        "    #______\n",
        "# p3:\n",
        "#     ______\n",
        "#     ______\n",
        "class stack():\n",
        "    def __init__(self,limit=10):\n",
        "        self.stack=[]\n",
        "        self.limit=limit\n",
        "    def peek(self):\n",
        "        if len(self.stack)<=0:\n",
        "            return -1\n",
        "        else:\n",
        "            return self.stack[len(self.stack)-1] #chun az sefr shuru mishe -1 mikonim\n",
        "    def pop(self):\n",
        "        if len(self.stack)<=0:\n",
        "            return -1\n",
        "        else:\n",
        "            return self.stack.pop()\n",
        "    def push(self,data): #baraye ezafe kardan yek moteqayer ast\n",
        "        if len(self,stack)>=self.limit:\n",
        "            return -1\n",
        "        else:\n",
        "            self.stack.append(data)\n",
        "    def display(self):\n",
        "        if len(self.stack<=0):\n",
        "            return -1\n",
        "        else:\n",
        "            for i in range (len(self.stack)):\n",
        "                print(self.stack[i])\n",
        "            # or\n",
        "            # for i in self.stack:\n",
        "            #______print(i)\n",
        "    def is_empty(self):\n",
        "        if len(self.stack)<=0:\n",
        "            return True\n",
        "        else:\n",
        "            return False\n",
        "\n",
        ""
      ]
    }
  ]
}