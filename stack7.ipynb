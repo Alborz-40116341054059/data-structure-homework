{
  "nbformat": 4,
  "nbformat_minor": 0,
  "metadata": {
    "colab": {
      "provenance": [],
      "authorship_tag": "ABX9TyPHJHSxvkHov3fQ5QBARZm0",
      "include_colab_link": true
    },
    "kernelspec": {
      "name": "python3",
      "display_name": "Python 3"
    },
    "language_info": {
      "name": "python"
    }
  },
  "cells": [
    {
      "cell_type": "markdown",
      "metadata": {
        "id": "view-in-github",
        "colab_type": "text"
      },
      "source": [
        "<a href=\"https://colab.research.google.com/github/Alborz-40116341054059/data-structure-homework/blob/main/stack7.ipynb\" target=\"_parent\"><img src=\"https://colab.research.google.com/assets/colab-badge.svg\" alt=\"Open In Colab\"/></a>"
      ]
    },
    {
      "cell_type": "code",
      "execution_count": null,
      "metadata": {
        "id": "uY8lGNp5Z0wK"
      },
      "outputs": [],
      "source": [
        "#tabei benevisisd ke  (),[],{}, ra dar yek reshte check konad agar tanzim bud True dar qeyre insurat False ra bargardanad in kar ra ba sakhteman dade poshte anjam dahid\n",
        "# [[2=5]*3]----> True\n",
        "class stack():\n",
        "    def __init__(self,limit=10):\n",
        "        self.stack=[]\n",
        "        self.limit=limit\n",
        "    def peek(self):\n",
        "        if len(self.stack)<=0:\n",
        "            return -1\n",
        "        else:\n",
        "            return self.stack[len(self.stack)-1] #chun az sefr shuru mishe -1 mikonim\n",
        "    def pop(self):\n",
        "        if len(self.stack)<=0:\n",
        "            return -1\n",
        "        else:\n",
        "            return self.stack.pop()\n",
        "    def push(self,data): #baraye ezafe kardan yek moteqayer ast\n",
        "        if len(self.stack)>=self.limit:\n",
        "            return -1\n",
        "        else:\n",
        "            self.stack.append(data)\n",
        "    def display(self):\n",
        "        if len(self.stack<=0):\n",
        "            return -1\n",
        "        else:\n",
        "            for i in range (len(self.stack)):\n",
        "                print(self.stack[i])\n",
        "    def is_empty(self):\n",
        "        if len(self.stack)<=0:\n",
        "            return True\n",
        "        else:\n",
        "            return False\n",
        "def check(str1):\n",
        "    s=stack(str1)\n",
        "    count=0\n",
        "    for i in str1:\n",
        "        if i=='(':\n",
        "            count=count+1\n",
        "        elif i==')':\n",
        "            count=count-1\n",
        "    if count==0:\n",
        "        return 'True'\n",
        "    else:\n",
        "        return 'False'\n",
        "str1='2*(5+2(2-3))'\n",
        "list1=[]\n",
        "list(str1).append(list1)\n",
        "check(list1)\n",
        "if check(list1)==True:\n",
        "    print(\"True\")\n",
        "else:\n",
        "    print(\"False\")\n",
        "\n",
        "\n",
        "\n"
      ]
    }
  ]
}