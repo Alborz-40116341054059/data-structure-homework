{
  "nbformat": 4,
  "nbformat_minor": 0,
  "metadata": {
    "colab": {
      "provenance": [],
      "authorship_tag": "ABX9TyNjVdEemM2Aiz9qn1ddCRpm",
      "include_colab_link": true
    },
    "kernelspec": {
      "name": "python3",
      "display_name": "Python 3"
    },
    "language_info": {
      "name": "python"
    }
  },
  "cells": [
    {
      "cell_type": "markdown",
      "metadata": {
        "id": "view-in-github",
        "colab_type": "text"
      },
      "source": [
        "<a href=\"https://colab.research.google.com/github/Alborz-40116341054059/data-structure-homework/blob/main/heapify.ipynb\" target=\"_parent\"><img src=\"https://colab.research.google.com/assets/colab-badge.svg\" alt=\"Open In Colab\"/></a>"
      ]
    },
    {
      "cell_type": "code",
      "execution_count": null,
      "metadata": {
        "id": "xyzVPyn5eVfj"
      },
      "outputs": [],
      "source": [
        "class NodeHT:\n",
        "\n",
        "  def __init__(self, data):\n",
        "    self.data = data\n",
        "    self.left = None\n",
        "    self.right = None\n",
        "\n",
        "class Htree:\n",
        "\n",
        "  def __init__(self, root=None):\n",
        "    self.root = root\n",
        "\n",
        "  def heapify_min (self,A,K):\n",
        "    left = (2*K) + 1\n",
        "    right = (2*K) + 2\n",
        "    if left < len(A) and A[left] < A[K]:\n",
        "      S = left\n",
        "    else:\n",
        "      S = K\n",
        "    if right < len(A) and A[right] < A[S] :\n",
        "      S = right\n",
        "    if S != K :\n",
        "      A[K] , A[S] = A[S] , A[K]\n",
        "      self.heapify(A,S)\n",
        "\n",
        "  def min_heap(self,A):\n",
        "    n = int((len(A) // 2) - 1)\n",
        "    for K in range(n,-1,-1):\n",
        "      self.heapify(A,K)\n",
        "\n",
        "  def heapify_max(self, A, K):\n",
        "      left = (2 * K) + 1\n",
        "      right = (2 * K) + 2\n",
        "      L = K\n",
        "      if left < len(A) and A[left] > A[K]:\n",
        "         L = left\n",
        "      if right < len(A) and A[right] > A[l]:\n",
        "         L = right\n",
        "      if L != K:\n",
        "         A[K], A[l] = A[l], A[K]\n",
        "         self.heapify_max(A, l)\n",
        "\n",
        "  def max_heap(self, A):\n",
        "      n = len(A) // 2 - 1\n",
        "      for k in range(n, -1, -1):\n",
        "        self.heapify_max(A, k)\n",
        "\n"
      ]
    }
  ]
}