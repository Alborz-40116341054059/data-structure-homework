{
  "nbformat": 4,
  "nbformat_minor": 0,
  "metadata": {
    "colab": {
      "provenance": [],
      "authorship_tag": "ABX9TyM63woMx77hZicC0w3Lv5jg",
      "include_colab_link": true
    },
    "kernelspec": {
      "name": "python3",
      "display_name": "Python 3"
    },
    "language_info": {
      "name": "python"
    }
  },
  "cells": [
    {
      "cell_type": "markdown",
      "metadata": {
        "id": "view-in-github",
        "colab_type": "text"
      },
      "source": [
        "<a href=\"https://colab.research.google.com/github/Alborz-40116341054059/data-structure-homework/blob/main/btree_2.ipynb\" target=\"_parent\"><img src=\"https://colab.research.google.com/assets/colab-badge.svg\" alt=\"Open In Colab\"/></a>"
      ]
    },
    {
      "cell_type": "code",
      "execution_count": null,
      "metadata": {
        "id": "uEjr0r5QV3HG"
      },
      "outputs": [],
      "source": [
        "class NodeBST:\n",
        "    def __init__(self,data):\n",
        "        self.key=data\n",
        "        self.left=None\n",
        "        self.right=None\n",
        "def SearchBST(root,k):\n",
        "    if root is None or root.key==k:\n",
        "        return root\n",
        "    if k>root.key:\n",
        "        return SearchBST(root.right,k)\n",
        "    return SearchBST(root.left,k)\n",
        "def InsertBst(root,k):\n",
        "    if root is None:\n",
        "        return NodeBST(k)\n",
        "    if k<root.key:\n",
        "        root.left=InsertBst(root.left,k)\n",
        "    else:\n",
        "        root.right=InsertBst(root.right,k)\n",
        "    return\n",
        "def minvalueBst(root):\n",
        "    if root is None:\n",
        "        return root\n",
        "    while root.left is None:\n",
        "        root=root.left\n",
        "    return root.key\n",
        "def minnodebst(r):\n",
        "    if r.left is None:\n",
        "        return r\n",
        "    else:\n",
        "        minnodebst(r.left)\n",
        "def maxnodebst(r):\n",
        "    if r.left is None:\n",
        "        return r\n",
        "    else:\n",
        "        maxnodebst(r.right)\n",
        "\n",
        "# r=NodeBST(5)\n",
        "# r.left=NodeBST(3)\n",
        "# r.left.left=NodeBST(2)\n",
        "# r.left.right=NodeBST(4)\n",
        "# r.right=NodeBST(8)\n",
        "# print((SearchBST(r,8)).key)\n",
        "r=NodeBST(5)\n",
        "InsertBst(r,3)\n"
      ]
    }
  ]
}