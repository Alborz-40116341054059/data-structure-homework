{
  "nbformat": 4,
  "nbformat_minor": 0,
  "metadata": {
    "colab": {
      "provenance": [],
      "authorship_tag": "ABX9TyMTe2boloB+rRO75/F5WXDk",
      "include_colab_link": true
    },
    "kernelspec": {
      "name": "python3",
      "display_name": "Python 3"
    },
    "language_info": {
      "name": "python"
    }
  },
  "cells": [
    {
      "cell_type": "markdown",
      "metadata": {
        "id": "view-in-github",
        "colab_type": "text"
      },
      "source": [
        "<a href=\"https://colab.research.google.com/github/Alborz-40116341054059/data-structure-homework/blob/main/safe_halqavi.ipynb\" target=\"_parent\"><img src=\"https://colab.research.google.com/assets/colab-badge.svg\" alt=\"Open In Colab\"/></a>"
      ]
    },
    {
      "cell_type": "code",
      "source": [
        "#safe halqavi\n",
        "class Queue_c:\n",
        "    def __init__(self,k):\n",
        "        self.k=k\n",
        "        self.queue=[None]*k\n",
        "        self.front=-1\n",
        "        self.rear=-1\n",
        "    def disqueue_c(self):\n",
        "        if self.front == -1:\n",
        "            print(\"empty\")\n",
        "        elif (self.front<self.rear):\n",
        "            for i in range(self.front,self.rear+1):\n",
        "                print(self.queue[i])\n",
        "        else:\n",
        "            for i in range(self.front,self.k):\n",
        "                print(self.queue[i])\n",
        "            for j in range(self.rear+1):\n",
        "                print(self.queue[j])\n",
        "\n",
        "    def insertqueue(self,data):\n",
        "        if((self.rear+1) % self.k ==self.front):\n",
        "            #por\n",
        "            print((\"full\"))\n",
        "        elif(self.front==-1):\n",
        "            #khali\n",
        "            self.front=0\n",
        "            self.rear=0\n",
        "            self.queue[self.rear]=data\n",
        "        else:\n",
        "            #meqdar darad\n",
        "            self.rear=(self.rear+1)%self.k\n",
        "            self.queue[self.rear]=data\n",
        "    def deletequeue(self):\n",
        "        if (self.front==-1):\n",
        "                #khali bashe\n",
        "                print(\"empty\")\n",
        "        elif (self.front==self.rear):\n",
        "                #yek ozv dashte bashe\n",
        "                t=self.queue[self.front]\n",
        "                self.front=-1\n",
        "                self.rear=-1\n",
        "                return t\n",
        "        else:\n",
        "                #biash az yek ozv dashte bashad\n",
        "                t=self.queue[self.front]\n",
        "                self.front=(self.front+1)%self.k#dar in qesmat ba in harkt saf ra az aval bar migardanad\n",
        "                return t\n",
        "\n",
        ""
      ],
      "metadata": {
        "id": "znMXnn5vJJKc"
      },
      "execution_count": 1,
      "outputs": []
    }
  ]
}