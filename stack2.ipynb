{
  "nbformat": 4,
  "nbformat_minor": 0,
  "metadata": {
    "colab": {
      "provenance": [],
      "authorship_tag": "ABX9TyPMH1rB05oqx3Pc8l4deZ3A",
      "include_colab_link": true
    },
    "kernelspec": {
      "name": "python3",
      "display_name": "Python 3"
    },
    "language_info": {
      "name": "python"
    }
  },
  "cells": [
    {
      "cell_type": "markdown",
      "metadata": {
        "id": "view-in-github",
        "colab_type": "text"
      },
      "source": [
        "<a href=\"https://colab.research.google.com/github/Alborz-40116341054059/data-structure-homework/blob/main/stack2.ipynb\" target=\"_parent\"><img src=\"https://colab.research.google.com/assets/colab-badge.svg\" alt=\"Open In Colab\"/></a>"
      ]
    },
    {
      "cell_type": "code",
      "source": [
        "#با استفاده از داده پشته تابعی بنویسید که عددی را از مبانی ۱۰ به مبنای ۲ ببرد\n",
        "class stack():\n",
        "    def __init__(self,limit=10):\n",
        "        self.stack=[]\n",
        "        self.limit=limit\n",
        "    def peek(self):\n",
        "        if len(self.stack)<=0:\n",
        "            return -1\n",
        "        else:\n",
        "            return self.stack[len(self.stack)-1] #chun az sefr shuru mishe -1 mikonim\n",
        "    def pop(self):\n",
        "        if len(self.stack)<=0:\n",
        "            return -1\n",
        "        else:\n",
        "            return self.stack.pop()\n",
        "    def push(self,data): #baraye ezafe kardan yek moteqayer ast\n",
        "        if len(self,stack)>=self.limit:\n",
        "            return -1\n",
        "        else:\n",
        "            self.stack.append(data)\n",
        "    def display(self):\n",
        "        if len(self.stack<=0):\n",
        "            return -1\n",
        "        else:\n",
        "            for i in range (len(self.stack)):\n",
        "                print(self.stack[i])\n",
        "    def is_empty(self):\n",
        "        if len(self.stack)<=0:\n",
        "            return True\n",
        "        else:\n",
        "            return False\n",
        "def dec2bin(number):\n",
        "    s=stack()\n",
        "    while number>0:\n",
        "        r=number%2\n",
        "        s.push(r)\n",
        "        number=number//2\n",
        "    b=\" \"\n",
        "    while not s.is_empty():\n",
        "        b=b+str(s.pop())\n",
        "    return b"
      ],
      "metadata": {
        "id": "znMXnn5vJJKc"
      },
      "execution_count": 1,
      "outputs": []
    }
  ]
}